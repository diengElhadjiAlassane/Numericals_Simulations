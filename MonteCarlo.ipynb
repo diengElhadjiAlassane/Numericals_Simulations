{
  "nbformat": 4,
  "nbformat_minor": 0,
  "metadata": {
    "colab": {
      "name": "Untitled2.ipynb",
      "provenance": [],
      "collapsed_sections": [],
      "authorship_tag": "ABX9TyNA7LepRMmjtbeWHt4chIf1",
      "include_colab_link": true
    },
    "kernelspec": {
      "name": "python3",
      "display_name": "Python 3"
    },
    "language_info": {
      "name": "python"
    }
  },
  "cells": [
    {
      "cell_type": "markdown",
      "metadata": {
        "id": "view-in-github",
        "colab_type": "text"
      },
      "source": [
        "<a href=\"https://colab.research.google.com/github/diengElhadjiAlassane/Numericals_Simulations/blob/main/MonteCarlo.ipynb\" target=\"_parent\"><img src=\"https://colab.research.google.com/assets/colab-badge.svg\" alt=\"Open In Colab\"/></a>"
      ]
    },
    {
      "cell_type": "code",
      "execution_count": null,
      "metadata": {
        "id": "wl5bX288Y2E3"
      },
      "outputs": [],
      "source": [
        "import matplotlib.pyplot as plt\n",
        "from random import random\n",
        "\n",
        "x_inside = []\n",
        "y_inside = []\n",
        "x_outside = []\n",
        "y_outside = []\n",
        "\n",
        "inside = 0\n",
        "n = 0\n",
        "\n",
        "while n < 9999:\n",
        "  n = n+1\n",
        "  x = random()\n",
        "  y = random()\n",
        "  if x**2+y**2 <= 1:\n",
        "    inside +=1\n",
        "    x_inside.append(x)\n",
        "    y_inside.append(y)\n",
        "\n",
        "  else:\n",
        "    x_outside.append(x)\n",
        "    y_outside.append(y)\n",
        "  pi = 4*inside/n\n",
        "  print(n,pi)\n",
        "fig , ax = plt.subplots()\n",
        "plt.title(\"%.3f\" %pi)\n",
        "plt.xlim(0 , 1)\n",
        "plt.ylim(0 , 1)\n",
        "ax.set_aspect('equal')\n",
        "ax.scatter(x_inside,y_inside,color='b',marker='.')\n",
        "ax.scatter(x_outside,y_outside,color='r',marker='.')\n",
        "fig.savefig(\"pi-%0.4d.png\" %n)\n",
        "#fig.clf()\n",
        "\n"
      ]
    },
    {
      "cell_type": "code",
      "source": [
        ""
      ],
      "metadata": {
        "id": "uePIY_TBe8TR"
      },
      "execution_count": null,
      "outputs": []
    }
  ]
}