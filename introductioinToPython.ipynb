{
  "nbformat": 4,
  "nbformat_minor": 0,
  "metadata": {
    "colab": {
      "provenance": [],
      "authorship_tag": "ABX9TyNjE4e62BvUFNWn/VbkRWmy",
      "include_colab_link": true
    },
    "kernelspec": {
      "name": "python3",
      "display_name": "Python 3"
    },
    "language_info": {
      "name": "python"
    }
  },
  "cells": [
    {
      "cell_type": "markdown",
      "metadata": {
        "id": "view-in-github",
        "colab_type": "text"
      },
      "source": [
        "<a href=\"https://colab.research.google.com/github/diengElhadjiAlassane/Numericals_Simulations/blob/main/introductioinToPython.ipynb\" target=\"_parent\"><img src=\"https://colab.research.google.com/assets/colab-badge.svg\" alt=\"Open In Colab\"/></a>"
      ]
    },
    {
      "cell_type": "code",
      "execution_count": 5,
      "metadata": {
        "colab": {
          "base_uri": "https://localhost:8080/"
        },
        "id": "OlznaTEyOE6e",
        "outputId": "2cce3979-9eac-4abc-cd74-212c1217f0e9"
      },
      "outputs": [
        {
          "output_type": "stream",
          "name": "stdout",
          "text": [
            "hello world\n"
          ]
        }
      ],
      "source": [
        "print(\"hello world\")"
      ]
    },
    {
      "cell_type": "code",
      "source": [
        "\"\"\"\n",
        "Actor: EL HADJI ALASSANE DIENG\n",
        "Date: 01-20-2023\n",
        "In this program we try to code with python from scratch\n",
        "\n",
        "\"\"\"\n",
        "#Program\n",
        "x=2.5 #variable x defined\n",
        "y=4.5 #variable y defined\n",
        "\n"
      ],
      "metadata": {
        "id": "tQJNKfJMWyOB"
      },
      "execution_count": null,
      "outputs": []
    }
  ]
}